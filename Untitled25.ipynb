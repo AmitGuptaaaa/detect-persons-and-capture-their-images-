{
  "cells": [
    {
      "cell_type": "code",
      "execution_count": 1,
      "metadata": {
        "trusted": true
      },
      "outputs": [
        {
          "ename": "ModuleNotFoundError",
          "evalue": "No module named 'numpy'",
          "output_type": "error",
          "traceback": [
            "\u001b[1;31m---------------------------------------------------------------------------\u001b[0m",
            "\u001b[1;31mModuleNotFoundError\u001b[0m                       Traceback (most recent call last)",
            "Cell \u001b[1;32mIn[1], line 1\u001b[0m\n\u001b[1;32m----> 1\u001b[0m \u001b[39mimport\u001b[39;00m \u001b[39mnumpy\u001b[39;00m \u001b[39mas\u001b[39;00m \u001b[39mnp\u001b[39;00m\n\u001b[0;32m      2\u001b[0m \u001b[39mimport\u001b[39;00m \u001b[39mcv2\u001b[39;00m\n\u001b[0;32m      4\u001b[0m get_ipython()\u001b[39m.\u001b[39mrun_line_magic(\u001b[39m'\u001b[39m\u001b[39mmatplotlib\u001b[39m\u001b[39m'\u001b[39m, \u001b[39m'\u001b[39m\u001b[39minline\u001b[39m\u001b[39m'\u001b[39m)\n",
            "\u001b[1;31mModuleNotFoundError\u001b[0m: No module named 'numpy'"
          ]
        }
      ],
      "source": [
        "import numpy as np\n",
        "import cv2\n",
        "\n",
        "%matplotlib inline\n",
        "from matplotlib import pyplot as plt\n",
        "\n",
        "np.random.seed(42)"
      ]
    },
    {
      "cell_type": "code",
      "execution_count": null,
      "metadata": {
        "trusted": true
      },
      "outputs": [],
      "source": [
        "#Routine to fix \n",
        "def fixColor(image):\n",
        "    return(cv2.cvtColor(image, cv2.COLOR_BGR2RGB))"
      ]
    },
    {
      "cell_type": "code",
      "execution_count": null,
      "metadata": {
        "trusted": true
      },
      "outputs": [],
      "source": [
        "#Take a look at the input video\n",
        "from IPython.display import Video\n",
        "#Video(\"images/overpass.mp4\", embed=True)\n",
        "\n",
        "#Replace with your own video"
      ]
    },
    {
      "cell_type": "code",
      "execution_count": null,
      "metadata": {
        "trusted": true
      },
      "outputs": [],
      "source": [
        "video_stream = cv2.VideoCapture('images/overpass.mp4')\n",
        "\n",
        "# Randomly select 30 frames\n",
        "frameIds = video_stream.get(cv2.CAP_PROP_FRAME_COUNT) * np.random.uniform(size=30)\n",
        "\n",
        "# Store selected frames in an array\n",
        "frames = []\n",
        "for fid in frameIds:\n",
        "    video_stream.set(cv2.CAP_PROP_POS_FRAMES, fid)\n",
        "    ret, frame = video_stream.read()\n",
        "    frames.append(frame)\n",
        "    \n",
        "video_stream.release()"
      ]
    },
    {
      "cell_type": "code",
      "execution_count": null,
      "metadata": {
        "trusted": true
      },
      "outputs": [],
      "source": [
        "# Calculate the median along the time axis\n",
        "medianFrame = np.median(frames, axis=0).astype(dtype=np.uint8)\n",
        "plt.imshow(fixColor(medianFrame))"
      ]
    },
    {
      "cell_type": "code",
      "execution_count": null,
      "metadata": {
        "trusted": true
      },
      "outputs": [],
      "source": [
        "<matplotlib.image.AxesImage at 0x7f71575ded68>\n",
        "\n",
        "\n",
        "\n",
        "\n",
        "\n",
        "\n",
        "\n",
        "\n",
        "\n",
        "\n",
        "\n"
      ]
    },
    {
      "cell_type": "code",
      "execution_count": null,
      "metadata": {},
      "outputs": [],
      "source": [
        "# Calculate the average along the time axis\n",
        "avgFrame = np.average(frames, axis=0).astype(dtype=np.uint8)\n",
        "plt.imshow(fixColor(avgFrame))"
      ]
    },
    {
      "cell_type": "code",
      "execution_count": null,
      "metadata": {},
      "outputs": [],
      "source": [
        "<matplotlib.image.AxesImage at 0x7f7157500908>\n",
        "\n",
        "\n",
        "\n",
        "\n",
        "\n",
        "\n",
        "\n",
        "\n",
        "\n",
        "\n",
        "\n",
        "\n",
        "\n"
      ]
    },
    {
      "cell_type": "code",
      "execution_count": null,
      "metadata": {},
      "outputs": [],
      "source": [
        "sample_frame=frames[0]\n",
        "plt.imshow(fixColor(sample_frame))"
      ]
    },
    {
      "cell_type": "code",
      "execution_count": null,
      "metadata": {},
      "outputs": [],
      "source": [
        "<matplotlib.image.AxesImage at 0x7f715401b0b8>\n",
        "\n",
        "\n",
        "\n",
        "\n",
        "\n",
        "\n",
        "\n",
        "\n",
        "\n",
        "\n",
        "\n",
        "\n",
        "\n"
      ]
    },
    {
      "cell_type": "code",
      "execution_count": null,
      "metadata": {},
      "outputs": [],
      "source": [
        "grayMedianFrame = cv2.cvtColor(medianFrame, cv2.COLOR_BGR2GRAY)\n",
        "plt.imshow(fixColor(grayMedianFrame))"
      ]
    },
    {
      "cell_type": "code",
      "execution_count": null,
      "metadata": {},
      "outputs": [],
      "source": [
        "<matplotlib.image.AxesImage at 0x7f714dff6518>\n",
        "\n",
        "\n",
        "\n",
        "\n",
        "\n",
        "\n",
        "\n",
        "\n",
        "\n",
        "\n",
        "\n",
        "\n",
        "\n"
      ]
    },
    {
      "cell_type": "code",
      "execution_count": null,
      "metadata": {},
      "outputs": [],
      "source": [
        "graySample=cv2.cvtColor(sample_frame, cv2.COLOR_BGR2GRAY)\n",
        "plt.imshow(fixColor(graySample))"
      ]
    },
    {
      "cell_type": "code",
      "execution_count": null,
      "metadata": {},
      "outputs": [],
      "source": [
        "<matplotlib.image.AxesImage at 0x7f714df66048>\n",
        "\n",
        "\n",
        "\n",
        "\n",
        "\n",
        "\n",
        "\n",
        "\n",
        "\n",
        "\n",
        "\n",
        "\n",
        "\n"
      ]
    },
    {
      "cell_type": "code",
      "execution_count": null,
      "metadata": {},
      "outputs": [],
      "source": [
        "dframe = cv2.absdiff(graySample, grayMedianFrame)\n",
        "plt.imshow(fixColor(dframe))"
      ]
    },
    {
      "cell_type": "code",
      "execution_count": null,
      "metadata": {},
      "outputs": [],
      "source": [
        "<matplotlib.image.AxesImage at 0x7f714df3a7b8>\n",
        "\n",
        "\n",
        "\n",
        "\n",
        "\n",
        "\n",
        "\n",
        "\n",
        "\n",
        "\n"
      ]
    },
    {
      "cell_type": "code",
      "execution_count": null,
      "metadata": {},
      "outputs": [],
      "source": [
        "blurred = cv2.GaussianBlur(dframe, (11,11), 0)\n",
        "plt.imshow(fixColor(blurred))"
      ]
    },
    {
      "cell_type": "code",
      "execution_count": null,
      "metadata": {},
      "outputs": [],
      "source": [
        "<matplotlib.image.AxesImage at 0x7f714de9ecc0>\n",
        "\n",
        "\n",
        "\n",
        "\n",
        "\n",
        "\n",
        "\n",
        "\n",
        "\n",
        "\n",
        "\n",
        "\n",
        "\n",
        "\n"
      ]
    },
    {
      "cell_type": "code",
      "execution_count": null,
      "metadata": {},
      "outputs": [],
      "source": [
        "ret, tframe= cv2.threshold(blurred,0,255,cv2.THRESH_BINARY+cv2.THRESH_OTSU)\n",
        "plt.imshow(fixColor(tframe))"
      ]
    },
    {
      "cell_type": "code",
      "execution_count": null,
      "metadata": {},
      "outputs": [],
      "source": [
        "(cnts, _) = cv2.findContours(tframe.copy(), cv2.RETR_EXTERNAL, \n",
        "                             cv2 .CHAIN_APPROX_SIMPLE)"
      ]
    },
    {
      "cell_type": "code",
      "execution_count": null,
      "metadata": {},
      "outputs": [],
      "source": [
        "for cnt in cnts:\n",
        "    x,y,w,h = cv2.boundingRect(cnt)\n",
        "    if y > 200:  #Disregard item that are the top of the picture\n",
        "        cv2.rectangle(sample_frame,(x,y),(x+w,y+h),(0,255,0),2)\n",
        "\n",
        "plt.imshow(fixColor(sample_frame))"
      ]
    },
    {
      "cell_type": "code",
      "execution_count": null,
      "metadata": {},
      "outputs": [],
      "source": [
        "<matplotlib.image.AxesImage at 0x7f714ddedd30>\n",
        "\n",
        "\n",
        "\n",
        "\n",
        "\n",
        "\n",
        "\n",
        "\n",
        "\n",
        "\n",
        "\n"
      ]
    },
    {
      "cell_type": "code",
      "execution_count": null,
      "metadata": {},
      "outputs": [],
      "source": [
        "writer = cv2.VideoWriter(\"output.mp4\", \n",
        "                         cv2.VideoWriter_fourcc(*\"MP4V\"), 30,(640,480))"
      ]
    },
    {
      "cell_type": "code",
      "execution_count": null,
      "metadata": {},
      "outputs": [],
      "source": [
        "#Create a new video stream and get total frame count\n",
        "video_stream = cv2.VideoCapture('images/overpass.mp4')\n",
        "total_frames=video_stream.get(cv2.CAP_PROP_FRAME_COUNT)\n",
        "total_frames"
      ]
    },
    {
      "cell_type": "code",
      "execution_count": null,
      "metadata": {},
      "outputs": [],
      "source": [
        "812.0"
      ]
    },
    {
      "cell_type": "code",
      "execution_count": null,
      "metadata": {},
      "outputs": [],
      "source": [
        "frameCnt=0\n",
        "while(frameCnt < total_frames-1):\n",
        "\n",
        "    frameCnt+=1\n",
        "    ret, frame = video_stream.read()\n",
        "\n",
        "    # Convert current frame to grayscale\n",
        "    gframe = cv2.cvtColor(frame, cv2.COLOR_BGR2GRAY)\n",
        "    # Calculate absolute difference of current frame and\n",
        "    # the median frame\n",
        "    dframe = cv2.absdiff(gframe, grayMedianFrame)\n",
        "    # Gaussian\n",
        "    blurred = cv2.GaussianBlur(dframe, (11, 11), 0)\n",
        "    #Thresholding to binarise\n",
        "    ret, tframe= cv2.threshold(blurred,0,255,\n",
        "                               cv2.THRESH_BINARY+cv2.THRESH_OTSU)\n",
        "    #Identifying contours from the threshold\n",
        "    (cnts, _) = cv2.findContours(tframe.copy(), \n",
        "                                 cv2.RETR_EXTERNAL, cv2 .CHAIN_APPROX_SIMPLE)\n",
        "    #For each contour draw the bounding bos\n",
        "    for cnt in cnts:\n",
        "        x,y,w,h = cv2.boundingRect(cnt)\n",
        "        if y > 200: # Disregard items in the top of the picture\n",
        "            cv2.rectangle(frame,(x,y),(x+w,y+h),(0,255,0),2)\n",
        "\n",
        "    writer.write(cv2.resize(frame, (640,480)))\n",
        " \n",
        "#Release video object\n",
        "video_stream.release()\n",
        "writer.release()"
      ]
    },
    {
      "cell_type": "code",
      "execution_count": null,
      "metadata": {},
      "outputs": [],
      "source": []
    }
  ],
  "metadata": {
    "kernelspec": {
      "display_name": "Python 3",
      "language": "python",
      "name": "python3"
    },
    "language_info": {
      "codemirror_mode": {
        "name": "ipython",
        "version": 3
      },
      "file_extension": ".py",
      "mimetype": "text/x-python",
      "name": "python",
      "nbconvert_exporter": "python",
      "pygments_lexer": "ipython3",
      "version": "3.9.5"
    },
    "vscode": {
      "interpreter": {
        "hash": "f20503b6428ff820f6dd511c4402dda06000f465cb8bd96533958cc48c789d45"
      }
    }
  },
  "nbformat": 4,
  "nbformat_minor": 4
}
